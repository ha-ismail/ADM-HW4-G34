{
 "cells": [
  {
   "cell_type": "code",
   "execution_count": 222,
   "metadata": {},
   "outputs": [],
   "source": [
    "from requests import get\n",
    "\n",
    "from bs4 import BeautifulSoup\n",
    "import pandas as pd\n",
    "import time\n",
    "import status\n",
    "\n",
    "from nltk.corpus import stopwords\n",
    "stop_words = set(stopwords.words(\"english\"))\n",
    "from nltk.tokenize import RegexpTokenizer\n",
    "from nltk.stem.snowball import SnowballStemmer\n",
    "from translate import Translator\n",
    "from langdetect import detect\n",
    "import math \n",
    "\n",
    "stemmer = SnowballStemmer('english')"
   ]
  },
  {
   "cell_type": "code",
   "execution_count": 19,
   "metadata": {},
   "outputs": [],
   "source": [
    "\n",
    "url = 'https://www.immobiliare.it/vendita-case/roma/?criterio=rilevanza&pag='\n",
    "pg = 1\n",
    "tm = 3\n",
    "df_info = pd.DataFrame(columns=['url','price','locali','superficie','bagni','piano'])\n",
    "def scrapInfo(df_info, maxEntries):\n",
    "    global pg, tm\n",
    "    i = len(df_info.index)\n",
    "    while i <= maxEntries:\n",
    "        \n",
    "        time.sleep(tm)\n",
    "        response = get(url+str(pg))\n",
    "        html_soup = BeautifulSoup(response.text, 'html.parser')\n",
    "        #print (response)\n",
    "        item_containers = html_soup.find_all('div', class_ = 'listing-item_body--content')\n",
    "        #print(len(item_containers))\n",
    "        for item in item_containers:\n",
    "            listing = []\n",
    "            listing.append(item.a['href'])\n",
    "            #print(listing)    \n",
    "            for d in item.ul.find_all('li', class_ = 'lif__item'):\n",
    "                try:\n",
    "                    \n",
    "                    if 'lif__pricing' in d['class']:\n",
    "                        listing.append(d.text.strip().split(' ')[1])\n",
    "                        next\n",
    "                    else:\n",
    "                        if d.find('div', class_='lif__text').text == 'locali':\n",
    "                            listing.append(d.span.text)\n",
    "                        if d.find('div', class_='lif__text').text == 'superficie':\n",
    "                            listing.append(d.span.text)\n",
    "                        if d.find('div', class_='lif__text').text == 'bagni':\n",
    "                            listing.append(d.span.text)\n",
    "                        if d.find('div', class_='lif__text').text == 'piano':\n",
    "                            listing.append(d.abbr.text.strip())\n",
    "                except:\n",
    "                    next\n",
    "            #print(len(listing))\n",
    "            if len(listing) == 6:\n",
    "                df_info.loc[len(df_info.index)+1] = listing\n",
    "                i +=1\n",
    "                #tm += 0.2\n",
    "        pg+=1\n",
    "    return(df_info)"
   ]
  },
  {
   "cell_type": "code",
   "execution_count": 20,
   "metadata": {},
   "outputs": [],
   "source": [
    "df_info = scrapInfo(df_info, 10000)"
   ]
  },
  {
   "cell_type": "code",
   "execution_count": 1,
   "metadata": {},
   "outputs": [
    {
     "ename": "NameError",
     "evalue": "name 'df_info' is not defined",
     "output_type": "error",
     "traceback": [
      "\u001b[0;31m---------------------------------------------------------------------------\u001b[0m",
      "\u001b[0;31mNameError\u001b[0m                                 Traceback (most recent call last)",
      "\u001b[0;32m<ipython-input-1-ebefb72d09d5>\u001b[0m in \u001b[0;36m<module>\u001b[0;34m()\u001b[0m\n\u001b[0;32m----> 1\u001b[0;31m \u001b[0mdf_info\u001b[0m\u001b[0;34m.\u001b[0m\u001b[0mhead\u001b[0m\u001b[0;34m(\u001b[0m\u001b[0;34m)\u001b[0m\u001b[0;34m\u001b[0m\u001b[0m\n\u001b[0m",
      "\u001b[0;31mNameError\u001b[0m: name 'df_info' is not defined"
     ]
    }
   ],
   "source": [
    "df_info.head()"
   ]
  },
  {
   "cell_type": "code",
   "execution_count": 16,
   "metadata": {},
   "outputs": [
    {
     "data": {
      "text/plain": [
       "18"
      ]
     },
     "execution_count": 16,
     "metadata": {},
     "output_type": "execute_result"
    }
   ],
   "source": [
    "pg"
   ]
  },
  {
   "cell_type": "code",
   "execution_count": 29,
   "metadata": {},
   "outputs": [
    {
     "name": "stdout",
     "output_type": "stream",
     "text": [
      "1\n",
      "2\n",
      "3\n"
     ]
    }
   ],
   "source": [
    "for i,row in df_info[0:3].iterrows():\n",
    "    print(i)"
   ]
  },
  {
   "cell_type": "code",
   "execution_count": 120,
   "metadata": {},
   "outputs": [],
   "source": [
    "#df_desc = pd.DataFrame(columns=['id','title','descrition'])\n",
    "#html_zuppa = BeautifulSoup(response.text, 'html.parser')\n",
    "#url_pre = 'https://www.immobiliare.it/nuove_costruzioni/Roma/'\n",
    "#url_suf = '-immobile.html'\n",
    "#pg_desc = 0\n",
    "tm = 2\n",
    "failedToRetrieve = []\n",
    "def scrapDetails(df_desc, n):\n",
    "    global pg_desc, tm, df_info\n",
    "\n",
    "    for index, row in df_info[pg_desc:pg_desc+n].iterrows():\n",
    "        listing = []\n",
    "        listing.append(index)\n",
    "        url_ = row['url']\n",
    "        response = get(url_)\n",
    "        #print(url_)\n",
    "        if response.status_code == 200:\n",
    "            try:\n",
    "                html_zuppa = BeautifulSoup(response.text, 'html.parser')\n",
    "                listing.append(html_zuppa.find('h1', class_='raleway title-detail').text.strip())\n",
    "                listing.append(html_zuppa.find('div', class_='description-text').div.text.strip())\n",
    "                df_desc.loc[len(df_desc.index)+1] = listing\n",
    "                pg_desc += 1\n",
    "                time.sleep(tm)\n",
    "            except:\n",
    "                failedToRetrieve.append(index)\n",
    "                df_desc.loc[len(df_desc.index)+1] = [index,None,None]\n",
    "                pg_desc += 1\n",
    "                \n",
    "        else:\n",
    "            failedToRetrieve.append(index)\n",
    "            df_desc.loc[len(df_desc.index)+1] = [index,None,None]\n",
    "            pg_desc += 1\n",
    "\n",
    "    return(df_desc)"
   ]
  },
  {
   "cell_type": "code",
   "execution_count": 156,
   "metadata": {},
   "outputs": [
    {
     "name": "stdout",
     "output_type": "stream",
     "text": [
      "5002 5057 5362 5635 5643 5809 6322 6797 7039 7110 7132 7313 7314 7315 7316 7356 7374 7447 7463 7596 7597 7619 7744 7883 7884 7908 7922 7956 8215 8276 8360 8456 8554 8633 8665 8709 8838 9017 9051 9166 9292 9370 9479 9528 9555 9655 9731 9733 9734 9935\n"
     ]
    }
   ],
   "source": [
    "print(*failedToRetrieve)"
   ]
  },
  {
   "cell_type": "code",
   "execution_count": 92,
   "metadata": {},
   "outputs": [],
   "source": [
    "#for i in range(2100, 2039, -1):\n",
    "#    df_desc.loc[i] = df_desc.loc[i-1]"
   ]
  },
  {
   "cell_type": "code",
   "execution_count": 75,
   "metadata": {},
   "outputs": [],
   "source": [
    "df_desc = scrapDetails(df_desc, 100)"
   ]
  },
  {
   "cell_type": "code",
   "execution_count": 149,
   "metadata": {},
   "outputs": [],
   "source": [
    "df_desc = scrapDetails(df_desc, 1000)\n"
   ]
  },
  {
   "cell_type": "code",
   "execution_count": 161,
   "metadata": {},
   "outputs": [],
   "source": [
    "#clean datasets, byt deleting from info the entries which failed to retrieve their description\n",
    "ds_info = df_info.drop(df_info.index[failedToRetrieve])\n"
   ]
  },
  {
   "cell_type": "code",
   "execution_count": 166,
   "metadata": {},
   "outputs": [],
   "source": [
    "ds_desc = df_desc.drop(df_desc.index[failedToRetrieve])"
   ]
  },
  {
   "cell_type": "code",
   "execution_count": 170,
   "metadata": {},
   "outputs": [],
   "source": [
    "ds_info.index = range(len(ds_info.index))\n",
    "ds_desc.index = range(len(ds_desc.index))"
   ]
  },
  {
   "cell_type": "code",
   "execution_count": 150,
   "metadata": {},
   "outputs": [
    {
     "data": {
      "text/plain": [
       "10011"
      ]
     },
     "execution_count": 150,
     "metadata": {},
     "output_type": "execute_result"
    }
   ],
   "source": [
    "#pg_desc"
   ]
  },
  {
   "cell_type": "code",
   "execution_count": 168,
   "metadata": {},
   "outputs": [
    {
     "data": {
      "text/html": [
       "<div>\n",
       "<style scoped>\n",
       "    .dataframe tbody tr th:only-of-type {\n",
       "        vertical-align: middle;\n",
       "    }\n",
       "\n",
       "    .dataframe tbody tr th {\n",
       "        vertical-align: top;\n",
       "    }\n",
       "\n",
       "    .dataframe thead th {\n",
       "        text-align: right;\n",
       "    }\n",
       "</style>\n",
       "<table border=\"1\" class=\"dataframe\">\n",
       "  <thead>\n",
       "    <tr style=\"text-align: right;\">\n",
       "      <th></th>\n",
       "      <th>id</th>\n",
       "      <th>title</th>\n",
       "      <th>descrition</th>\n",
       "    </tr>\n",
       "  </thead>\n",
       "  <tbody>\n",
       "    <tr>\n",
       "      <th>count</th>\n",
       "      <td>9961.0</td>\n",
       "      <td>9908</td>\n",
       "      <td>9908</td>\n",
       "    </tr>\n",
       "    <tr>\n",
       "      <th>unique</th>\n",
       "      <td>9960.0</td>\n",
       "      <td>8259</td>\n",
       "      <td>9815</td>\n",
       "    </tr>\n",
       "    <tr>\n",
       "      <th>top</th>\n",
       "      <td>2040.0</td>\n",
       "      <td>Trilocale via Massa di San Giuliano 270, Roma</td>\n",
       "      <td>tel 3468137428 06 90288424 www.domusgallaplaci...</td>\n",
       "    </tr>\n",
       "    <tr>\n",
       "      <th>freq</th>\n",
       "      <td>2.0</td>\n",
       "      <td>14</td>\n",
       "      <td>3</td>\n",
       "    </tr>\n",
       "  </tbody>\n",
       "</table>\n",
       "</div>"
      ],
      "text/plain": [
       "            id                                          title  \\\n",
       "count   9961.0                                           9908   \n",
       "unique  9960.0                                           8259   \n",
       "top     2040.0  Trilocale via Massa di San Giuliano 270, Roma   \n",
       "freq       2.0                                             14   \n",
       "\n",
       "                                               descrition  \n",
       "count                                                9908  \n",
       "unique                                               9815  \n",
       "top     tel 3468137428 06 90288424 www.domusgallaplaci...  \n",
       "freq                                                    3  "
      ]
     },
     "execution_count": 168,
     "metadata": {},
     "output_type": "execute_result"
    }
   ],
   "source": [
    "ds_desc.describe()"
   ]
  },
  {
   "cell_type": "code",
   "execution_count": 169,
   "metadata": {},
   "outputs": [
    {
     "data": {
      "text/html": [
       "<div>\n",
       "<style scoped>\n",
       "    .dataframe tbody tr th:only-of-type {\n",
       "        vertical-align: middle;\n",
       "    }\n",
       "\n",
       "    .dataframe tbody tr th {\n",
       "        vertical-align: top;\n",
       "    }\n",
       "\n",
       "    .dataframe thead th {\n",
       "        text-align: right;\n",
       "    }\n",
       "</style>\n",
       "<table border=\"1\" class=\"dataframe\">\n",
       "  <thead>\n",
       "    <tr style=\"text-align: right;\">\n",
       "      <th></th>\n",
       "      <th>url</th>\n",
       "      <th>price</th>\n",
       "      <th>locali</th>\n",
       "      <th>superficie</th>\n",
       "      <th>bagni</th>\n",
       "      <th>piano</th>\n",
       "    </tr>\n",
       "  </thead>\n",
       "  <tbody>\n",
       "    <tr>\n",
       "      <th>count</th>\n",
       "      <td>9961</td>\n",
       "      <td>9961</td>\n",
       "      <td>9961</td>\n",
       "      <td>9961</td>\n",
       "      <td>9961</td>\n",
       "      <td>9961</td>\n",
       "    </tr>\n",
       "    <tr>\n",
       "      <th>unique</th>\n",
       "      <td>9935</td>\n",
       "      <td>868</td>\n",
       "      <td>6</td>\n",
       "      <td>334</td>\n",
       "      <td>4</td>\n",
       "      <td>15</td>\n",
       "    </tr>\n",
       "    <tr>\n",
       "      <th>top</th>\n",
       "      <td>https://www.immobiliare.it/67435127-Vendita-Tr...</td>\n",
       "      <td>199.000</td>\n",
       "      <td>3</td>\n",
       "      <td>100</td>\n",
       "      <td>1</td>\n",
       "      <td>1</td>\n",
       "    </tr>\n",
       "    <tr>\n",
       "      <th>freq</th>\n",
       "      <td>2</td>\n",
       "      <td>166</td>\n",
       "      <td>3661</td>\n",
       "      <td>480</td>\n",
       "      <td>5151</td>\n",
       "      <td>2210</td>\n",
       "    </tr>\n",
       "  </tbody>\n",
       "</table>\n",
       "</div>"
      ],
      "text/plain": [
       "                                                      url    price locali  \\\n",
       "count                                                9961     9961   9961   \n",
       "unique                                               9935      868      6   \n",
       "top     https://www.immobiliare.it/67435127-Vendita-Tr...  199.000     3    \n",
       "freq                                                    2      166   3661   \n",
       "\n",
       "       superficie bagni piano  \n",
       "count        9961  9961  9961  \n",
       "unique        334     4    15  \n",
       "top           100    1      1  \n",
       "freq          480  5151  2210  "
      ]
     },
     "execution_count": 169,
     "metadata": {},
     "output_type": "execute_result"
    }
   ],
   "source": [
    "ds_info.describe()"
   ]
  },
  {
   "cell_type": "code",
   "execution_count": 56,
   "metadata": {},
   "outputs": [
    {
     "data": {
      "text/html": [
       "<div>\n",
       "<style scoped>\n",
       "    .dataframe tbody tr th:only-of-type {\n",
       "        vertical-align: middle;\n",
       "    }\n",
       "\n",
       "    .dataframe tbody tr th {\n",
       "        vertical-align: top;\n",
       "    }\n",
       "\n",
       "    .dataframe thead th {\n",
       "        text-align: right;\n",
       "    }\n",
       "</style>\n",
       "<table border=\"1\" class=\"dataframe\">\n",
       "  <thead>\n",
       "    <tr style=\"text-align: right;\">\n",
       "      <th></th>\n",
       "      <th>id</th>\n",
       "      <th>title</th>\n",
       "      <th>descrition</th>\n",
       "    </tr>\n",
       "  </thead>\n",
       "  <tbody>\n",
       "    <tr>\n",
       "      <th>333</th>\n",
       "      <td>333</td>\n",
       "      <td>Bilocale via Torri di Castel di Leva 12, Roma</td>\n",
       "      <td>Rif: VRE - Via Torri di Castel di Leva. Adiace...</td>\n",
       "    </tr>\n",
       "    <tr>\n",
       "      <th>533</th>\n",
       "      <td>533</td>\n",
       "      <td>Bilocale via Torri di Castel di Leva 12, Roma</td>\n",
       "      <td>Rif: VRE - Via Torri di Castel di Leva. Adiace...</td>\n",
       "    </tr>\n",
       "    <tr>\n",
       "      <th>848</th>\n",
       "      <td>848</td>\n",
       "      <td>Trilocale via massimo troisi, 12, Roma</td>\n",
       "      <td>A ridosso di via di Malafede, Località Giardin...</td>\n",
       "    </tr>\n",
       "    <tr>\n",
       "      <th>849</th>\n",
       "      <td>849</td>\n",
       "      <td>Trilocale via massimo troisi, 12, Roma</td>\n",
       "      <td>A ridosso di via di Malafede, Località Giardin...</td>\n",
       "    </tr>\n",
       "  </tbody>\n",
       "</table>\n",
       "</div>"
      ],
      "text/plain": [
       "      id                                          title  \\\n",
       "333  333  Bilocale via Torri di Castel di Leva 12, Roma   \n",
       "533  533  Bilocale via Torri di Castel di Leva 12, Roma   \n",
       "848  848         Trilocale via massimo troisi, 12, Roma   \n",
       "849  849         Trilocale via massimo troisi, 12, Roma   \n",
       "\n",
       "                                            descrition  \n",
       "333  Rif: VRE - Via Torri di Castel di Leva. Adiace...  \n",
       "533  Rif: VRE - Via Torri di Castel di Leva. Adiace...  \n",
       "848  A ridosso di via di Malafede, Località Giardin...  \n",
       "849  A ridosso di via di Malafede, Località Giardin...  "
      ]
     },
     "execution_count": 56,
     "metadata": {},
     "output_type": "execute_result"
    }
   ],
   "source": [
    "df_desc[df_desc.duplicated(subset=['title', 'descrition'], keep= False)]"
   ]
  },
  {
   "cell_type": "code",
   "execution_count": 108,
   "metadata": {},
   "outputs": [
    {
     "data": {
      "text/plain": [
       "'https://www.immobiliare.it/70370910-Vendita-Quadrilocale-via-Silvestri-Roma.html'"
      ]
     },
     "execution_count": 108,
     "metadata": {},
     "output_type": "execute_result"
    }
   ],
   "source": [
    "df_info.loc[3919].url"
   ]
  },
  {
   "cell_type": "code",
   "execution_count": 165,
   "metadata": {},
   "outputs": [
    {
     "data": {
      "text/html": [
       "<div>\n",
       "<style scoped>\n",
       "    .dataframe tbody tr th:only-of-type {\n",
       "        vertical-align: middle;\n",
       "    }\n",
       "\n",
       "    .dataframe tbody tr th {\n",
       "        vertical-align: top;\n",
       "    }\n",
       "\n",
       "    .dataframe thead th {\n",
       "        text-align: right;\n",
       "    }\n",
       "</style>\n",
       "<table border=\"1\" class=\"dataframe\">\n",
       "  <thead>\n",
       "    <tr style=\"text-align: right;\">\n",
       "      <th></th>\n",
       "      <th>id</th>\n",
       "      <th>title</th>\n",
       "      <th>descrition</th>\n",
       "    </tr>\n",
       "  </thead>\n",
       "  <tbody>\n",
       "    <tr>\n",
       "      <th>count</th>\n",
       "      <td>10011.0</td>\n",
       "      <td>9952</td>\n",
       "      <td>9952</td>\n",
       "    </tr>\n",
       "    <tr>\n",
       "      <th>unique</th>\n",
       "      <td>10010.0</td>\n",
       "      <td>8292</td>\n",
       "      <td>9858</td>\n",
       "    </tr>\n",
       "    <tr>\n",
       "      <th>top</th>\n",
       "      <td>2040.0</td>\n",
       "      <td>Trilocale via Massa di San Giuliano 270, Roma</td>\n",
       "      <td>Rif: Appartamento di Nuova Costruzione In Clas...</td>\n",
       "    </tr>\n",
       "    <tr>\n",
       "      <th>freq</th>\n",
       "      <td>2.0</td>\n",
       "      <td>14</td>\n",
       "      <td>3</td>\n",
       "    </tr>\n",
       "  </tbody>\n",
       "</table>\n",
       "</div>"
      ],
      "text/plain": [
       "             id                                          title  \\\n",
       "count   10011.0                                           9952   \n",
       "unique  10010.0                                           8292   \n",
       "top      2040.0  Trilocale via Massa di San Giuliano 270, Roma   \n",
       "freq        2.0                                             14   \n",
       "\n",
       "                                               descrition  \n",
       "count                                                9952  \n",
       "unique                                               9858  \n",
       "top     Rif: Appartamento di Nuova Costruzione In Clas...  \n",
       "freq                                                    3  "
      ]
     },
     "execution_count": 165,
     "metadata": {},
     "output_type": "execute_result"
    }
   ],
   "source": [
    "df_desc.describe()"
   ]
  },
  {
   "cell_type": "code",
   "execution_count": 178,
   "metadata": {},
   "outputs": [],
   "source": [
    "ds_desc.to_csv('ds_desc.csv', header = True)"
   ]
  },
  {
   "cell_type": "code",
   "execution_count": 177,
   "metadata": {},
   "outputs": [],
   "source": [
    "ds_info.to_csv('ds_info.csv', header = True)"
   ]
  },
  {
   "cell_type": "code",
   "execution_count": 223,
   "metadata": {},
   "outputs": [],
   "source": [
    "def cleanData(txt, lang='italian'):\n",
    "    tokenizer = RegexpTokenizer(r'\\w+')\n",
    "    stop_words = set(stopwords.words(lang))\n",
    "\n",
    "    # get words lowercased\n",
    "    t0 = str(txt).lower()\n",
    "    # remove puctuations\n",
    "    t1 = tokenizer.tokenize(t0)\n",
    "    # reomve stop words\n",
    "    t2 =[]\n",
    "    t2 = [t1[i] for i in range(0,len(t1)) if t1[i] not in stop_words]\n",
    "\n",
    "    # stemm words\n",
    "    t3 = [stemmer.stem(t2[i]) for i in range(0, len(t2))]\n",
    "\n",
    "    # remove nummbers and strings starting with numbers\n",
    "    t4 = [t3[i] for i in range(0, len(t3)) if t3[i][0].isdigit()==False]\n",
    "        \n",
    "    return(t4)\n",
    "    \n",
    "def txtWords(txt):\n",
    "    return(cleanData(txt))\n",
    "def getTF(txt, word):\n",
    "    cTxt = cleanData(txt)\n",
    "    if word not in cTxt: return (0)\n",
    "    return(cTxt.count(word)/len(cTxt))\n",
    "    "
   ]
  },
  {
   "cell_type": "code",
   "execution_count": 264,
   "metadata": {},
   "outputs": [],
   "source": [
    "pause = 0\n",
    "class immobiliare:\n",
    "    def __init__(self, dataset):\n",
    "        self.data = dataset\n",
    "        self.size = len(self.data)\n",
    "        #vocabulary = self.getVoc()\n",
    "        self._index = self.index()\n",
    "        self._indexTFIDF = []\n",
    "        global pause\n",
    "        \n",
    "    #def getVoc(self):\n",
    "        \n",
    "        \n",
    "    def index(self):\n",
    "        _index = {}\n",
    "        for index, row in self.data.iterrows():\n",
    "            for w in (list(set(txtWords(row.title+row.descrition)))):\n",
    "                if w in _index.keys(): _index[w].append(index)\n",
    "                else: _index[w] = [index]\n",
    "        return(_index)\n",
    "               \n",
    "    def getIDF(self, word):\n",
    "               return(math.log(self.size/len(self._index[word])))\n",
    "               \n",
    "    def getTFIDF(self, txt, word):\n",
    "               if word not in cleanData(txt): return (0)\n",
    "               return(getTF(txt, word) * self.getIDF(word))\n",
    "            \n",
    "# Consider using pyspark for this step!\n",
    "    def buildIndexTFIDF(self, quanto, pause=0):\n",
    "        tmpRow = []\n",
    "        _indexTFIDF = []\n",
    "        for w in list(self._index.keys())[pause:pause+quanto]:\n",
    "            tmpRow.append([self.getTFIDF(ann.title+ann.descrition, w) for index, ann in self.data.iterrows()])\n",
    "            _indexTFIDF.append(tmpRow)\n",
    "            pause +=1\n",
    "            self._indexTFIDF = _indexTFIDF\n",
    "            return(_indexTFIDF)"
   ]
  },
  {
   "cell_type": "code",
   "execution_count": 258,
   "metadata": {},
   "outputs": [],
   "source": [
    "immData = immobiliare(ds_desc)"
   ]
  },
  {
   "cell_type": "code",
   "execution_count": null,
   "metadata": {},
   "outputs": [],
   "source": [
    "immData.buildIndexTFIDF(10, pause)"
   ]
  },
  {
   "cell_type": "code",
   "execution_count": null,
   "metadata": {},
   "outputs": [],
   "source": [
    "immData._indexTFIDF"
   ]
  },
  {
   "cell_type": "code",
   "execution_count": 256,
   "metadata": {},
   "outputs": [
    {
     "name": "stdout",
     "output_type": "stream",
     "text": [
      "rifinitissimo\n",
      "orari\n",
      "giovedi\n",
      "venrdi\n",
      "domenica\n"
     ]
    }
   ],
   "source": [
    "for w in list(immData._index.keys())[0:5]:\n",
    "    print (w)"
   ]
  },
  {
   "cell_type": "code",
   "execution_count": null,
   "metadata": {},
   "outputs": [],
   "source": []
  }
 ],
 "metadata": {
  "kernelspec": {
   "display_name": "Python 3",
   "language": "python",
   "name": "python3"
  },
  "language_info": {
   "codemirror_mode": {
    "name": "ipython",
    "version": 3
   },
   "file_extension": ".py",
   "mimetype": "text/x-python",
   "name": "python",
   "nbconvert_exporter": "python",
   "pygments_lexer": "ipython3",
   "version": "3.7.0"
  }
 },
 "nbformat": 4,
 "nbformat_minor": 2
}
